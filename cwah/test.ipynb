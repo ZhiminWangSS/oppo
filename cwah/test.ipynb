{
 "cells": [
  {
   "cell_type": "code",
   "execution_count": 2,
   "id": "a5ae7deb",
   "metadata": {},
   "outputs": [
    {
     "name": "stdout",
     "output_type": "stream",
     "text": [
      "None\n"
     ]
    }
   ],
   "source": [
    "import os\n",
    "apikey = os.environ.get(\"OPENAI_KEY\")\n",
    "print(apikey)   "
   ]
  },
  {
   "cell_type": "code",
   "execution_count": 3,
   "id": "8925aa46",
   "metadata": {},
   "outputs": [
    {
     "name": "stdout",
     "output_type": "stream",
     "text": [
      "environ({'CHROME_DESKTOP': 'code.desktop', 'DBUS_SESSION_BUS_ADDRESS': 'unix:path=/run/user/1000/bus', 'DESKTOP_SESSION': 'ubuntu', 'DISPLAY': ':1', 'GDK_BACKEND': 'x11', 'GDMSESSION': 'ubuntu', 'GIO_LAUNCHED_DESKTOP_FILE': '/usr/share/applications/code.desktop', 'GIO_LAUNCHED_DESKTOP_FILE_PID': '3281', 'GJS_DEBUG_OUTPUT': 'stderr', 'GJS_DEBUG_TOPICS': 'JS ERROR;JS LOG', 'GNOME_DESKTOP_SESSION_ID': 'this-is-deprecated', 'GNOME_SHELL_SESSION_MODE': 'ubuntu', 'GPG_AGENT_INFO': '/run/user/1000/gnupg/S.gpg-agent:0:1', 'GTK_IM_MODULE': 'ibus', 'GTK_MODULES': 'gail:atk-bridge', 'HOME': '/home/mmlab', 'INVOCATION_ID': 'a20c7aa5e161486b96d6060011d52ab5', 'JOURNAL_STREAM': '8:8058', 'LANG': 'zh_CN.UTF-8', 'LANGUAGE': 'zh_CN:en', 'LC_ADDRESS': 'zh_CN.UTF-8', 'LC_IDENTIFICATION': 'zh_CN.UTF-8', 'LC_MEASUREMENT': 'zh_CN.UTF-8', 'LC_MONETARY': 'zh_CN.UTF-8', 'LC_NAME': 'zh_CN.UTF-8', 'LC_NUMERIC': 'zh_CN.UTF-8', 'LC_PAPER': 'zh_CN.UTF-8', 'LC_TELEPHONE': 'zh_CN.UTF-8', 'LC_TIME': 'zh_CN.UTF-8', 'LOGNAME': 'mmlab', 'MANAGERPID': '1873', 'ORIGINAL_XDG_CURRENT_DESKTOP': 'ubuntu:GNOME', 'PAPERSIZE': 'a4', 'PATH': '/home/mmlab/miniconda3/envs/cwah/bin:/home/mmlab/miniconda3/condabin:/usr/local/sbin:/usr/local/bin:/usr/sbin:/usr/bin:/sbin:/bin:/usr/games:/usr/local/games:/snap/bin:/snap/bin', 'PWD': '/home/mmlab', 'QT_ACCESSIBILITY': '1', 'QT_IM_MODULE': 'ibus', 'SESSION_MANAGER': 'local/mmlab-lmgroup:@/tmp/.ICE-unix/2099,unix/mmlab-lmgroup:/tmp/.ICE-unix/2099', 'SHELL': '/bin/bash', 'SHLVL': '1', 'SSH_AGENT_LAUNCHER': 'gnome-keyring', 'SSH_AUTH_SOCK': '/run/user/1000/keyring/ssh', 'SYSTEMD_EXEC_PID': '2122', 'USER': 'mmlab', 'USERNAME': 'mmlab', 'VSCODE_CODE_CACHE_PATH': '/home/mmlab/.config/Code/CachedData/258e40fedc6cb8edf399a463ce3a9d32e7e1f6f3', 'VSCODE_CRASH_REPORTER_PROCESS_TYPE': 'extensionHost', 'VSCODE_CWD': '/home/mmlab', 'VSCODE_ESM_ENTRYPOINT': 'vs/workbench/api/node/extensionHostProcess', 'VSCODE_HANDLES_UNCAUGHT_ERRORS': 'true', 'VSCODE_IPC_HOOK': '/run/user/1000/vscode-881f5ec3-1.10-main.sock', 'VSCODE_NLS_CONFIG': '{\"userLocale\":\"zh-cn\",\"osLocale\":\"zh-cn\",\"resolvedLanguage\":\"zh-cn\",\"defaultMessagesFile\":\"/usr/share/code/resources/app/out/nls.messages.json\",\"languagePack\":{\"translationsConfigFile\":\"/home/mmlab/.config/Code/clp/81b89199f95dc7f8a6123adce567118a.zh-cn/tcf.json\",\"messagesFile\":\"/home/mmlab/.config/Code/clp/81b89199f95dc7f8a6123adce567118a.zh-cn/258e40fedc6cb8edf399a463ce3a9d32e7e1f6f3/nls.messages.json\",\"corruptMarkerFile\":\"/home/mmlab/.config/Code/clp/81b89199f95dc7f8a6123adce567118a.zh-cn/corrupted.info\"},\"locale\":\"zh-cn\",\"availableLanguages\":{\"*\":\"zh-cn\"},\"_languagePackId\":\"81b89199f95dc7f8a6123adce567118a.zh-cn\",\"_languagePackSupport\":true,\"_translationsConfigFile\":\"/home/mmlab/.config/Code/clp/81b89199f95dc7f8a6123adce567118a.zh-cn/tcf.json\",\"_cacheRoot\":\"/home/mmlab/.config/Code/clp/81b89199f95dc7f8a6123adce567118a.zh-cn\",\"_resolvedLanguagePackCoreLocation\":\"/home/mmlab/.config/Code/clp/81b89199f95dc7f8a6123adce567118a.zh-cn/258e40fedc6cb8edf399a463ce3a9d32e7e1f6f3\",\"_corruptedFile\":\"/home/mmlab/.config/Code/clp/81b89199f95dc7f8a6123adce567118a.zh-cn/corrupted.info\"}', 'VSCODE_PID': '3281', 'WINDOWPATH': '2', 'XAUTHORITY': '/run/user/1000/gdm/Xauthority', 'XDG_CONFIG_DIRS': '/etc/xdg/xdg-ubuntu:/etc/xdg', 'XDG_CURRENT_DESKTOP': 'Unity', 'XDG_DATA_DIRS': '/usr/share/ubuntu:/usr/share/gnome:/usr/local/share/:/usr/share/:/var/lib/snapd/desktop', 'XDG_MENU_PREFIX': 'gnome-', 'XDG_RUNTIME_DIR': '/run/user/1000', 'XDG_SESSION_CLASS': 'user', 'XDG_SESSION_DESKTOP': 'ubuntu', 'XDG_SESSION_TYPE': 'x11', 'XMODIFIERS': '@im=ibus', 'ELECTRON_RUN_AS_NODE': '1', 'APPLICATION_INSIGHTS_NO_STATSBEAT': 'true', 'APPLICATION_INSIGHTS_NO_DIAGNOSTIC_CHANNEL': '1', 'APPLICATIONINSIGHTS_CONFIGURATION_CONTENT': '{}', 'VSCODE_L10N_BUNDLE_LOCATION': 'file:///home/mmlab/.vscode/extensions/ms-ceintl.vscode-language-pack-zh-hans-1.101.2025061109/translations/extensions/vscode.markdown-language-features.i18n.json', 'PYTHONUNBUFFERED': '1', 'CONDA_EXE': '/home/mmlab/miniconda3/bin/conda', 'CONDA_ROOT': '/home/mmlab/miniconda3', 'CONDA_PREFIX': '/home/mmlab/miniconda3/envs/cwah', 'CONDA_PROMPT_MODIFIER': '(cwah) ', 'PYTHONIOENCODING': 'utf-8', 'CONDA_SHLVL': '1', 'CONDA_PYTHON_EXE': '/home/mmlab/miniconda3/bin/python', 'CONDA_DEFAULT_ENV': 'cwah', '_': '/home/mmlab/miniconda3/envs/cwah/bin/python', 'PYDEVD_IPYTHON_COMPATIBLE_DEBUGGING': '1', 'PYTHON_FROZEN_MODULES': 'on', 'PYDEVD_USE_FRAME_EVAL': 'NO', 'TERM': 'xterm-color', 'CLICOLOR': '1', 'FORCE_COLOR': '1', 'CLICOLOR_FORCE': '1', 'PAGER': 'cat', 'GIT_PAGER': 'cat', 'MPLBACKEND': 'module://matplotlib_inline.backend_inline'})\n"
     ]
    }
   ],
   "source": [
    "import os\n",
    "print(os.environ)        # 查看所有环境变量"
   ]
  }
 ],
 "metadata": {
  "kernelspec": {
   "display_name": "cwah",
   "language": "python",
   "name": "python3"
  },
  "language_info": {
   "codemirror_mode": {
    "name": "ipython",
    "version": 3
   },
   "file_extension": ".py",
   "mimetype": "text/x-python",
   "name": "python",
   "nbconvert_exporter": "python",
   "pygments_lexer": "ipython3",
   "version": "3.8.20"
  }
 },
 "nbformat": 4,
 "nbformat_minor": 5
}
